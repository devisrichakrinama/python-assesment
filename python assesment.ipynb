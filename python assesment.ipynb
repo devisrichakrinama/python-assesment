{
 "cells": [
  {
   "cell_type": "markdown",
   "id": "e0f1d242",
   "metadata": {},
   "source": [
    "# 1.PYTHON BASICS"
   ]
  },
  {
   "cell_type": "code",
   "execution_count": 1,
   "id": "a178a1f6",
   "metadata": {},
   "outputs": [
    {
     "name": "stdout",
     "output_type": "stream",
     "text": [
      "enter your namechakri\n",
      "chakri\n"
     ]
    }
   ],
   "source": [
    "#1.Write a program to print your name\n",
    "name=input(\"enter your name\")\n",
    "print(name)"
   ]
  },
  {
   "cell_type": "code",
   "execution_count": 2,
   "id": "f0f62a49",
   "metadata": {},
   "outputs": [
    {
     "name": "stdout",
     "output_type": "stream",
     "text": [
      "comment\n"
     ]
    }
   ],
   "source": [
    "#2. Write a program for a Single line comment and multi-line comments\n",
    "print(\"comment\")"
   ]
  },
  {
   "cell_type": "code",
   "execution_count": 3,
   "id": "f71d290b",
   "metadata": {},
   "outputs": [
    {
     "name": "stdout",
     "output_type": "stream",
     "text": [
      "<class 'int'>\n",
      "<class 'bool'>\n",
      "<class 'str'>\n",
      "<class 'float'>\n",
      "<class 'float'>\n"
     ]
    }
   ],
   "source": [
    "#3. Define variables for different Data Types int, Boolean, char, float, double and print on the console.\n",
    "a = 3\n",
    "print(type(a))\n",
    "b = False\n",
    "print(type(b))\n",
    "c = 'a'\n",
    "print(type(c))\n",
    "d = 7.0\n",
    "print(type(d))\n",
    "e = 20.9877656545\n",
    "print(type(e)) # in python float and double are same"
   ]
  },
  {
   "cell_type": "code",
   "execution_count": 4,
   "id": "d093b6b7",
   "metadata": {},
   "outputs": [
    {
     "name": "stdout",
     "output_type": "stream",
     "text": [
      "Inside function: I am a Local Variable\n",
      "Outside function: I am a Global Variable\n"
     ]
    }
   ],
   "source": [
    "#4. Define the local and Global variables with the same name and print both variables and understand the scope of the variables\n",
    "var = \"I am a Global Variable\"\n",
    "def my_function():\n",
    "    var = \"I am a Local Variable\"\n",
    "    print(\"Inside function:\", var)  # Prints the local variable\n",
    "my_function()\n",
    "print(\"Outside function:\", var)  # Prints the global variable"
   ]
  },
  {
   "cell_type": "markdown",
   "id": "538a39e8",
   "metadata": {},
   "source": [
    "# 2. OPERATORS"
   ]
  },
  {
   "cell_type": "code",
   "execution_count": 8,
   "id": "861b0000",
   "metadata": {},
   "outputs": [
    {
     "name": "stdout",
     "output_type": "stream",
     "text": [
      "Enter first number: 2\n",
      "Enter second number: 2\n",
      "4.0\n",
      "0.0\n",
      "4.0\n",
      "1.0\n"
     ]
    }
   ],
   "source": [
    "#1. Write a function for arithmetic operators(+,-,*,/)\n",
    "def arithmetic_operations(a, b):\n",
    "    print(a + b)        # Addition\n",
    "    print(a - b)     # Subtraction\n",
    "    print(a * b)  # Multiplication\n",
    "    print(a / b)  # Division\n",
    "\n",
    "a = float(input(\"Enter first number: \"))\n",
    "b = float(input(\"Enter second number: \"))\n",
    "arithmetic_operations(a, b)"
   ]
  },
  {
   "cell_type": "code",
   "execution_count": 9,
   "id": "e47a451c",
   "metadata": {},
   "outputs": [
    {
     "name": "stdout",
     "output_type": "stream",
     "text": [
      "Enter a number: 6\n",
      "After Increment: 7\n",
      "After Decrement: 6\n"
     ]
    }
   ],
   "source": [
    "#2. Write a method for increment and decrement operators(++, --)\n",
    "def increment_decrement():\n",
    "    num = int(input(\"Enter a number: \"))\n",
    "    num += 1\n",
    "    print(\"After Increment:\", num)\n",
    "    num -= 1\n",
    "    print(\"After Decrement:\", num)\n",
    "increment_decrement()"
   ]
  },
  {
   "cell_type": "code",
   "execution_count": 11,
   "id": "0f9e8f34",
   "metadata": {},
   "outputs": [
    {
     "name": "stdout",
     "output_type": "stream",
     "text": [
      "6\n",
      "6\n",
      "equal\n"
     ]
    }
   ],
   "source": [
    "#3. Write a program to find the two numbers equal or not.\n",
    "a = float(input())\n",
    "b = float(input())\n",
    "if a == b:\n",
    "    print(\"equal\")\n",
    "else:\n",
    "    print(\"not equal\")"
   ]
  },
  {
   "cell_type": "code",
   "execution_count": 13,
   "id": "a209b844",
   "metadata": {},
   "outputs": [
    {
     "name": "stdout",
     "output_type": "stream",
     "text": [
      "8\n",
      "7\n",
      "False\n",
      "False\n",
      "True\n",
      "True\n"
     ]
    }
   ],
   "source": [
    "#4. Program for relational operators (<,<==, >, >==) \n",
    "num1 = float(input())\n",
    "num2 = float(input())\n",
    "print(num1 < num2)    # Less than\n",
    "print(num1 <= num2)  # Less than or equal to\n",
    "print(num1 > num2)    # Greater than\n",
    "print(num1 >= num2)  # Greater than or equal to"
   ]
  },
  {
   "cell_type": "code",
   "execution_count": 14,
   "id": "fc40b31b",
   "metadata": {},
   "outputs": [
    {
     "name": "stdout",
     "output_type": "stream",
     "text": [
      "8\n",
      "9\n",
      "Smaller number: 8.0\n",
      "Larger number: 9.0\n"
     ]
    }
   ],
   "source": [
    "#5. Print the smaller and larger number \n",
    "num1 = float(input())\n",
    "num2 = float(input())\n",
    "larger = max(num1, num2)\n",
    "smaller = min(num1, num2)\n",
    "print(\"Smaller number:\", smaller)\n",
    "print(\"Larger number:\", larger)"
   ]
  },
  {
   "cell_type": "markdown",
   "id": "e7377154",
   "metadata": {},
   "source": [
    "# 3.LOOPS"
   ]
  },
  {
   "cell_type": "code",
   "execution_count": 15,
   "id": "e8c2388f",
   "metadata": {},
   "outputs": [
    {
     "name": "stdout",
     "output_type": "stream",
     "text": [
      "Bright IT Career\n",
      "Bright IT Career\n",
      "Bright IT Career\n",
      "Bright IT Career\n",
      "Bright IT Career\n",
      "Bright IT Career\n",
      "Bright IT Career\n",
      "Bright IT Career\n",
      "Bright IT Career\n",
      "Bright IT Career\n"
     ]
    }
   ],
   "source": [
    "#1.Write a program to print  “Bright IT Career”  ten times using for loop \n",
    "for i in range(10):\n",
    "    print(\"Bright IT Career\")"
   ]
  },
  {
   "cell_type": "code",
   "execution_count": 16,
   "id": "ffadf58e",
   "metadata": {},
   "outputs": [
    {
     "name": "stdout",
     "output_type": "stream",
     "text": [
      "1\n",
      "2\n",
      "3\n",
      "4\n",
      "5\n",
      "6\n",
      "7\n",
      "8\n",
      "9\n",
      "10\n",
      "11\n",
      "12\n",
      "13\n",
      "14\n",
      "15\n",
      "16\n",
      "17\n",
      "18\n",
      "19\n",
      "20\n"
     ]
    }
   ],
   "source": [
    "#2. Write a program to print 1 to 20 numbers using the while loop.\n",
    "num = 1  \n",
    "while num <= 20:\n",
    "    print(num)\n",
    "    num += 1  "
   ]
  },
  {
   "cell_type": "code",
   "execution_count": 18,
   "id": "8d8177c4",
   "metadata": {},
   "outputs": [
    {
     "name": "stdout",
     "output_type": "stream",
     "text": [
      "3\n",
      "3\n",
      "True\n",
      "False\n"
     ]
    }
   ],
   "source": [
    "#3. Program to equal operator and not equal operators\n",
    "num1 = float(input())\n",
    "num2 = float(input())\n",
    "print(num1 == num2)  \n",
    "print(num1 != num2)"
   ]
  },
  {
   "cell_type": "code",
   "execution_count": 25,
   "id": "81aa1a17",
   "metadata": {},
   "outputs": [
    {
     "name": "stdout",
     "output_type": "stream",
     "text": [
      "7\n",
      "old number\n"
     ]
    }
   ],
   "source": [
    "#4. Write a program to print the odd and even numbers\n",
    "n=int(input())\n",
    "if i / 2 == 0:\n",
    "    print(\"even number\")\n",
    "else:\n",
    "    print(\"old number\")"
   ]
  },
  {
   "cell_type": "code",
   "execution_count": 26,
   "id": "71b254de",
   "metadata": {},
   "outputs": [
    {
     "name": "stdout",
     "output_type": "stream",
     "text": [
      "9\n",
      "5\n",
      "2\n",
      "Largest number is: 9\n"
     ]
    }
   ],
   "source": [
    "#5. Write a program to print largest number among three numbers.\n",
    "a = int(input())\n",
    "b = int(input())\n",
    "c = int(input())\n",
    "if a >= b and a >= c:\n",
    "    print(\"Largest number is:\", a)\n",
    "elif b >= a and b >= c:\n",
    "    print(\"Largest number is:\", b)\n",
    "else:\n",
    "    print(\"Largest number is:\", c)"
   ]
  },
  {
   "cell_type": "code",
   "execution_count": 27,
   "id": "16a68a30",
   "metadata": {},
   "outputs": [
    {
     "name": "stdout",
     "output_type": "stream",
     "text": [
      "10\n",
      "12\n",
      "14\n",
      "16\n",
      "18\n",
      "20\n"
     ]
    }
   ],
   "source": [
    "#6. Write a  program to print even number between 10 and 20 using while \n",
    "num = 10  \n",
    "while num <= 20:\n",
    "    print(num)\n",
    "    num += 2 "
   ]
  },
  {
   "cell_type": "code",
   "execution_count": 31,
   "id": "ae8da334",
   "metadata": {},
   "outputs": [
    {
     "name": "stdout",
     "output_type": "stream",
     "text": [
      "1\n",
      "2\n",
      "3\n",
      "4\n",
      "5\n",
      "6\n",
      "7\n",
      "8\n",
      "9\n",
      "10\n"
     ]
    }
   ],
   "source": [
    "#7. Write a program to print 1 to 10 using the do-while loop statement. \n",
    "num = 1  \n",
    "while True:\n",
    "    print(num)\n",
    "    num += 1\n",
    "    if num > 10: \n",
    "        break"
   ]
  },
  {
   "cell_type": "code",
   "execution_count": 35,
   "id": "e13d743a",
   "metadata": {},
   "outputs": [
    {
     "name": "stdout",
     "output_type": "stream",
     "text": [
      "66\n",
      "66 is not an Armstrong number.\n"
     ]
    }
   ],
   "source": [
    "#8. Write a program to find Armstrong number or not \n",
    "num = int(input())\n",
    "temp = num\n",
    "sum_of_digits = 0\n",
    "digits = len(str(num))\n",
    "while temp > 0:\n",
    "    digit = temp % 10  \n",
    "    sum_of_digits += digit ** digits \n",
    "    temp //= 10  \n",
    "if num == sum_of_digits:\n",
    "    print(num, \"is an Armstrong number.\")\n",
    "else:\n",
    "    print(num, \"is not an Armstrong number.\")"
   ]
  },
  {
   "cell_type": "code",
   "execution_count": 36,
   "id": "8fa85555",
   "metadata": {},
   "outputs": [
    {
     "name": "stdout",
     "output_type": "stream",
     "text": [
      "Enter a number: 8\n",
      "8 is not a prime number.\n"
     ]
    }
   ],
   "source": [
    "#9. Write a program to find the prime or not.\n",
    "num = int(input(\"Enter a number: \"))\n",
    "\n",
    "if num > 1:\n",
    "    for i in range(2, num):\n",
    "        if num % i == 0:\n",
    "            print(num, \"is not a prime number.\")\n",
    "            break\n",
    "    else:\n",
    "        print(num, \"is a prime number.\")\n",
    "else:\n",
    "    print(num, \"is not a prime number.\")"
   ]
  },
  {
   "cell_type": "code",
   "execution_count": 38,
   "id": "41b0d885",
   "metadata": {},
   "outputs": [
    {
     "name": "stdout",
     "output_type": "stream",
     "text": [
      "Enter a number: 989\n",
      "989 is a palindrome.\n"
     ]
    }
   ],
   "source": [
    "#10. Write a program to palindrome or not.\n",
    "num = input(\"Enter a number: \")\n",
    "if num == num[::-1]:  \n",
    "    print(num, \"is a palindrome.\")\n",
    "else:\n",
    "    print(num, \"is not a palindrome.\")"
   ]
  },
  {
   "cell_type": "code",
   "execution_count": 39,
   "id": "c8b34b5c",
   "metadata": {},
   "outputs": [
    {
     "name": "stdout",
     "output_type": "stream",
     "text": [
      "78\n",
      "78 is Even\n"
     ]
    }
   ],
   "source": [
    "#11. Program to check whether a number is EVEN or ODD using switch\n",
    "def check_even_odd(num):\n",
    "    switch = {\n",
    "        0: \"Even\",\n",
    "        1: \"Odd\"\n",
    "    }\n",
    "    return switch[num % 2]\n",
    "num = int(input())\n",
    "print(num, \"is\", check_even_odd(num))"
   ]
  },
  {
   "cell_type": "code",
   "execution_count": 40,
   "id": "84ca8c71",
   "metadata": {},
   "outputs": [
    {
     "name": "stdout",
     "output_type": "stream",
     "text": [
      "Enter M for Male or F for Female: m\n",
      "Gender: Male\n"
     ]
    }
   ],
   "source": [
    "#12. Print gender (Male/Female) program according to given M/F using switch \n",
    "def get_gender(letter):\n",
    "    switch = {\n",
    "        'M': \"Male\",\n",
    "        'F': \"Female\"\n",
    "    }\n",
    "    return switch.get(letter.upper(), \"Invalid input\")\n",
    "letter = input(\"Enter M for Male or F for Female: \")\n",
    "print(\"Gender:\", get_gender(letter))"
   ]
  },
  {
   "cell_type": "markdown",
   "id": "d11a0d71",
   "metadata": {},
   "source": [
    "# 4.ARRAYS"
   ]
  },
  {
   "cell_type": "code",
   "execution_count": 41,
   "id": "15c7bf03",
   "metadata": {},
   "outputs": [
    {
     "name": "stdout",
     "output_type": "stream",
     "text": [
      "15\n"
     ]
    }
   ],
   "source": [
    "#1. Write a function to add integer values of an array\n",
    "def sum_of_array(arr):\n",
    "    return sum(arr)\n",
    "numbers = [1, 2, 3, 4, 5]\n",
    "print(sum_of_array(numbers))"
   ]
  },
  {
   "cell_type": "code",
   "execution_count": 42,
   "id": "d5158215",
   "metadata": {},
   "outputs": [
    {
     "name": "stdout",
     "output_type": "stream",
     "text": [
      "Average of array: 30.0\n"
     ]
    }
   ],
   "source": [
    "#2. Write a function to calculate the average value of an array of integers\n",
    "def average_of_array(arr):\n",
    "    return sum(arr) / len(arr)\n",
    "numbers = [10, 20, 30, 40, 50]\n",
    "print(\"Average of array:\", average_of_array(numbers))"
   ]
  },
  {
   "cell_type": "code",
   "execution_count": 44,
   "id": "579afefd",
   "metadata": {},
   "outputs": [
    {
     "name": "stdout",
     "output_type": "stream",
     "text": [
      "Enter the number to find its index: 3\n",
      "3 is not in the array.\n"
     ]
    }
   ],
   "source": [
    "#3. Write a program to find the index of an array element\n",
    "numbers = [10, 20, 30, 40, 50]\n",
    "element = int(input(\"Enter the number to find its index: \"))\n",
    "if element in numbers:\n",
    "    index = numbers.index(element) \n",
    "    print(f\"Index of {element}: {index}\")\n",
    "else:\n",
    "    print(f\"{element} is not in the array.\")"
   ]
  },
  {
   "cell_type": "code",
   "execution_count": 45,
   "id": "2a4029c0",
   "metadata": {},
   "outputs": [
    {
     "name": "stdout",
     "output_type": "stream",
     "text": [
      "Enter a number to check: 30\n",
      "30 is in the array.\n"
     ]
    }
   ],
   "source": [
    "#4. Write a function to test if array contains a specific value \n",
    "def contains_value(arr, value):\n",
    "    return value in arr\n",
    "numbers = [10, 20, 30, 40, 50]\n",
    "value = int(input(\"Enter a number to check: \"))\n",
    "if contains_value(numbers, value):\n",
    "    print(value, \"is in the array.\")\n",
    "else:\n",
    "    print(value, \"is not in the array.\")"
   ]
  },
  {
   "cell_type": "code",
   "execution_count": 46,
   "id": "230c9b71",
   "metadata": {},
   "outputs": [
    {
     "name": "stdout",
     "output_type": "stream",
     "text": [
      "Enter a number to remove: 50\n",
      "Updated array: [10, 20, 30, 40]\n"
     ]
    }
   ],
   "source": [
    "#5. Write a function to remove a specific element from an array\n",
    "def remove_element(arr, value):\n",
    "    if value in arr:\n",
    "        arr.remove(value) \n",
    "    else:\n",
    "        print(value, \"is not in the array.\")\n",
    "    return arr\n",
    "numbers = [10, 20, 30, 40, 50]\n",
    "value = int(input(\"Enter a number to remove: \"))\n",
    "updated_numbers = remove_element(numbers, value)\n",
    "print(\"Updated array:\", updated_numbers)"
   ]
  },
  {
   "cell_type": "code",
   "execution_count": 47,
   "id": "0ef5a10f",
   "metadata": {},
   "outputs": [
    {
     "name": "stdout",
     "output_type": "stream",
     "text": [
      "Original array: [10, 20, 30, 40, 50]\n",
      "Copied array: [10, 20, 30, 40, 50]\n"
     ]
    }
   ],
   "source": [
    "#6. Write a function to copy an array to another array\n",
    "def copy_array(arr):\n",
    "    return arr[:] \n",
    "numbers = [10, 20, 30, 40, 50]\n",
    "copied_numbers = copy_array(numbers)\n",
    "print(\"Original array:\", numbers)\n",
    "print(\"Copied array:\", copied_numbers)"
   ]
  },
  {
   "cell_type": "code",
   "execution_count": 48,
   "id": "fbcb6a7f",
   "metadata": {},
   "outputs": [
    {
     "name": "stdout",
     "output_type": "stream",
     "text": [
      "Enter the number to insert: 80\n",
      "Enter the position (index) to insert at: 3\n",
      "Updated array: [10, 20, 30, 80, 40, 50]\n"
     ]
    }
   ],
   "source": [
    "#7. Write a function to insert an element at a specific position in the array\n",
    "def insert_element(arr, value, position):\n",
    "    arr.insert(position, value)\n",
    "    return arr\n",
    "numbers = [10, 20, 30, 40, 50]\n",
    "value = int(input(\"Enter the number to insert: \"))\n",
    "position = int(input(\"Enter the position (index) to insert at: \"))\n",
    "updated_numbers = insert_element(numbers, value, position)\n",
    "print(\"Updated array:\", updated_numbers)\n"
   ]
  },
  {
   "cell_type": "code",
   "execution_count": 50,
   "id": "a05c5655",
   "metadata": {},
   "outputs": [
    {
     "name": "stdout",
     "output_type": "stream",
     "text": [
      "Minimum value: 5\n",
      "Maximum value: 50\n"
     ]
    }
   ],
   "source": [
    "#8. Write a function to find the minimum and maximum value of an array\n",
    "def find_min_max(arr):\n",
    "    return min(arr), max(arr)\n",
    "numbers = [10, 20, 5, 40, 50]\n",
    "minimum, maximum = find_min_max(numbers)\n",
    "print(\"Minimum value:\", minimum)\n",
    "print(\"Maximum value:\", maximum)"
   ]
  },
  {
   "cell_type": "code",
   "execution_count": 51,
   "id": "01401ba6",
   "metadata": {},
   "outputs": [
    {
     "name": "stdout",
     "output_type": "stream",
     "text": [
      "Reversed array: [50, 40, 30, 20, 10]\n"
     ]
    }
   ],
   "source": [
    "#9. Write a function to reverse an array of integer values\n",
    "def reverse_array(arr):\n",
    "    return arr[::-1]\n",
    "numbers = [10, 20, 30, 40, 50]\n",
    "reversed_numbers = reverse_array(numbers)\n",
    "print(\"Reversed array:\", reversed_numbers)"
   ]
  },
  {
   "cell_type": "code",
   "execution_count": 52,
   "id": "054495bd",
   "metadata": {},
   "outputs": [
    {
     "name": "stdout",
     "output_type": "stream",
     "text": [
      "Duplicate values: [10, 20, 30]\n"
     ]
    }
   ],
   "source": [
    "#10. Write a function to find the duplicate values of an array\n",
    "numbers = [10, 20, 30, 20, 40, 50, 10, 60, 30]\n",
    "duplicates = []\n",
    "for num in numbers:\n",
    "    if numbers.count(num) > 1 and num not in duplicates:\n",
    "        duplicates.append(num)\n",
    "print(\"Duplicate values:\", duplicates)"
   ]
  },
  {
   "cell_type": "code",
   "execution_count": 53,
   "id": "d0d99faf",
   "metadata": {},
   "outputs": [
    {
     "name": "stdout",
     "output_type": "stream",
     "text": [
      "Common values: [40, 50, 30]\n"
     ]
    }
   ],
   "source": [
    "#11. Write a program to find the common values between two arrays\n",
    "array1 = [10, 20, 30, 40, 50]\n",
    "array2 = [30, 40, 50, 60, 70]\n",
    "common_values = list(set(array1) & set(array2))\n",
    "print(\"Common values:\", common_values)"
   ]
  },
  {
   "cell_type": "code",
   "execution_count": 54,
   "id": "e1564bfd",
   "metadata": {},
   "outputs": [
    {
     "name": "stdout",
     "output_type": "stream",
     "text": [
      "Array without duplicates: [40, 10, 50, 20, 60, 30]\n"
     ]
    }
   ],
   "source": [
    "#12. Write a method to remove duplicate elements from an array\n",
    "def remove_duplicates(arr):\n",
    "    return list(set(arr))\n",
    "numbers = [10, 20, 30, 20, 40, 50, 10, 60, 30]\n",
    "unique_numbers = remove_duplicates(numbers)\n",
    "print(\"Array without duplicates:\", unique_numbers)"
   ]
  },
  {
   "cell_type": "code",
   "execution_count": 55,
   "id": "05eeba77",
   "metadata": {},
   "outputs": [
    {
     "name": "stdout",
     "output_type": "stream",
     "text": [
      "Second largest number: 40\n"
     ]
    }
   ],
   "source": [
    "#13. Write a method to find the second largest number in an array\n",
    "def second_largest(arr):\n",
    "    unique_numbers = list(set(arr))\n",
    "    unique_numbers.sort(reverse=True)\n",
    "    return unique_numbers[1]\n",
    "numbers = [10, 20, 30, 40, 50, 50, 40]\n",
    "print(\"Second largest number:\", second_largest(numbers))"
   ]
  },
  {
   "cell_type": "code",
   "execution_count": 56,
   "id": "6ab630bc",
   "metadata": {},
   "outputs": [
    {
     "name": "stdout",
     "output_type": "stream",
     "text": [
      "Second largest number: 40\n"
     ]
    }
   ],
   "source": [
    "#14. Write a method to find the second largest number in an array\n",
    "def second_largest(arr):\n",
    "    largest = second = float('-inf')\n",
    "    for num in arr:\n",
    "        if num > largest:  \n",
    "            second = largest\n",
    "            largest = num\n",
    "        elif num > second and num != largest:\n",
    "            second = num\n",
    "    return second\n",
    "numbers = [10, 20, 30, 40, 50]\n",
    "print(\"Second largest number:\", second_largest(numbers))"
   ]
  },
  {
   "cell_type": "code",
   "execution_count": 57,
   "id": "4e415bfc",
   "metadata": {},
   "outputs": [
    {
     "name": "stdout",
     "output_type": "stream",
     "text": [
      "Even numbers: 5\n",
      "Odd numbers: 4\n"
     ]
    }
   ],
   "source": [
    "#15. Write a method to find number of even number and odd numbers in an array\n",
    "def count_even_odd(arr):\n",
    "    even_count = 0\n",
    "    odd_count = 0\n",
    "    for num in arr:\n",
    "        if num % 2 == 0:\n",
    "            even_count += 1\n",
    "        else:\n",
    "            odd_count += 1\n",
    "    return even_count, odd_count\n",
    "numbers = [10, 21, 32, 43, 54, 65, 76, 87, 98]\n",
    "even, odd = count_even_odd(numbers)\n",
    "print(\"Even numbers:\", even)\n",
    "print(\"Odd numbers:\", odd)"
   ]
  },
  {
   "cell_type": "code",
   "execution_count": 58,
   "id": "cf0d4fd9",
   "metadata": {},
   "outputs": [
    {
     "name": "stdout",
     "output_type": "stream",
     "text": [
      "Difference: 40\n"
     ]
    }
   ],
   "source": [
    "#16. Write a function to get the difference of largest and smallest value\n",
    "def difference_largest_smallest(arr):\n",
    "    return max(arr) - min(arr)\n",
    "numbers = [10, 20, 30, 40, 50]\n",
    "print(\"Difference:\", difference_largest_smallest(numbers))"
   ]
  },
  {
   "cell_type": "code",
   "execution_count": 59,
   "id": "58293201",
   "metadata": {},
   "outputs": [
    {
     "name": "stdout",
     "output_type": "stream",
     "text": [
      "Array contains both 12 and 23.\n"
     ]
    }
   ],
   "source": [
    "#17. Write a method to verify if the array contains two specified elements(12,23)\n",
    "def contains_elements(arr):\n",
    "    return 12 in arr and 23 in arr\n",
    "numbers = [10, 12, 15, 23, 30, 40]\n",
    "if contains_elements(numbers):\n",
    "    print(\"Array contains both 12 and 23.\")\n",
    "else:\n",
    "    print(\"Array does not contain both 12 and 23.\")"
   ]
  },
  {
   "cell_type": "code",
   "execution_count": 60,
   "id": "968a115e",
   "metadata": {},
   "outputs": [
    {
     "name": "stdout",
     "output_type": "stream",
     "text": [
      "Array without duplicates: [40, 10, 50, 20, 60, 30]\n"
     ]
    }
   ],
   "source": [
    "#18. Write a program to remove the duplicate elements and return the new array\n",
    "def remove_duplicates(arr):\n",
    "    return list(set(arr))\n",
    "numbers = [10, 20, 30, 20, 40, 50, 10, 60, 30]\n",
    "new_array = remove_duplicates(numbers)\n",
    "print(\"Array without duplicates:\", new_array)"
   ]
  },
  {
   "cell_type": "markdown",
   "id": "dea55b42",
   "metadata": {},
   "source": [
    "# 5.STATIC"
   ]
  },
  {
   "cell_type": "code",
   "execution_count": 61,
   "id": "5509123e",
   "metadata": {},
   "outputs": [
    {
     "name": "stdout",
     "output_type": "stream",
     "text": [
      "Accessing static variable: 100\n"
     ]
    }
   ],
   "source": [
    "#1. Define a static variable and access that through a class\n",
    "class Example:\n",
    "    static_var = 100\n",
    "print(\"Accessing static variable:\", Example.static_var)\n"
   ]
  },
  {
   "cell_type": "code",
   "execution_count": 62,
   "id": "1b228d48",
   "metadata": {},
   "outputs": [
    {
     "name": "stdout",
     "output_type": "stream",
     "text": [
      "Accessing static variable through instance: 100\n"
     ]
    }
   ],
   "source": [
    "#2. Define a static variable and access that through a instance\n",
    "class Example:\n",
    "    static_var = 100\n",
    "obj = Example()\n",
    "print(\"Accessing static variable through instance:\", obj.static_var)\n"
   ]
  },
  {
   "cell_type": "code",
   "execution_count": 63,
   "id": "4d9da319",
   "metadata": {},
   "outputs": [
    {
     "name": "stdout",
     "output_type": "stream",
     "text": [
      "Accessing through instance: 200\n",
      "Accessing through class: 100\n"
     ]
    }
   ],
   "source": [
    "#3. Define a static variable and change within the instance\n",
    "class Example:\n",
    "    static_var = 100\n",
    "obj = Example()\n",
    "obj.static_var = 200\n",
    "print(\"Accessing through instance:\", obj.static_var)\n",
    "print(\"Accessing through class:\", Example.static_var)"
   ]
  },
  {
   "cell_type": "code",
   "execution_count": 64,
   "id": "175f60fc",
   "metadata": {},
   "outputs": [
    {
     "name": "stdout",
     "output_type": "stream",
     "text": [
      "Before change: 100\n",
      "After change: 200\n"
     ]
    }
   ],
   "source": [
    "#4. Define a static variable and change within the class\n",
    "class Example:\n",
    "    static_var = 100\n",
    "    @classmethod\n",
    "    def change_static(cls, new_value):\n",
    "        cls.static_var = new_value\n",
    "print(\"Before change:\", Example.static_var)\n",
    "Example.change_static(200)\n",
    "print(\"After change:\", Example.static_var)"
   ]
  },
  {
   "cell_type": "markdown",
   "id": "ffda7796",
   "metadata": {},
   "source": [
    "# 6.STRINGS"
   ]
  },
  {
   "cell_type": "code",
   "execution_count": 65,
   "id": "f4e3be29",
   "metadata": {},
   "outputs": [
    {
     "name": "stdout",
     "output_type": "stream",
     "text": [
      "Hello, World!\n",
      "Hello, World!\n",
      "Hello,\n",
      "This is a multiline\n",
      "string.\n",
      "Hello,\n",
      "This is another way\n",
      "to write multiline strings.\n",
      "123\n",
      "Hello\n"
     ]
    }
   ],
   "source": [
    "#1. Different ways creating a string\n",
    "str1 = 'Hello, World!'\n",
    "print(str1)\n",
    "\n",
    "str2 = \"Hello, World!\"\n",
    "print(str2)\n",
    "str3 = '''Hello,\n",
    "This is a multiline\n",
    "string.'''\n",
    "print(str3)\n",
    "\n",
    "str4 = \"\"\"Hello,\n",
    "This is another way\n",
    "to write multiline strings.\"\"\"\n",
    "print(str4)\n",
    "\n",
    "str5 = str(123)\n",
    "print(str5)\n",
    "\n",
    "str6 = ''.join(['H', 'e', 'l', 'l', 'o'])\n",
    "print(str6)"
   ]
  },
  {
   "cell_type": "code",
   "execution_count": 66,
   "id": "16c89b9d",
   "metadata": {},
   "outputs": [
    {
     "name": "stdout",
     "output_type": "stream",
     "text": [
      "Concatenated String: Hello World\n"
     ]
    }
   ],
   "source": [
    "#2. Concatenating two strings using + operator\n",
    "str1 = \"Hello\"\n",
    "str2 = \"World\"\n",
    "result = str1 + \" \" + str2\n",
    "print(\"Concatenated String:\", result)\n"
   ]
  },
  {
   "cell_type": "code",
   "execution_count": 67,
   "id": "c078e129",
   "metadata": {},
   "outputs": [
    {
     "name": "stdout",
     "output_type": "stream",
     "text": [
      "13\n"
     ]
    }
   ],
   "source": [
    "#3. Finding the length of the string\n",
    "str1 = \"Hello, World!\"\n",
    "length = len(str1)\n",
    "print(length)\n"
   ]
  },
  {
   "cell_type": "code",
   "execution_count": 68,
   "id": "acae8d06",
   "metadata": {},
   "outputs": [
    {
     "name": "stdout",
     "output_type": "stream",
     "text": [
      "Extracted substring: World\n"
     ]
    }
   ],
   "source": [
    "#4. Extract a string using Substring\n",
    "str1 = \"Hello, World!\"\n",
    "substring = str1[7:12]\n",
    "print(\"Extracted substring:\", substring)"
   ]
  },
  {
   "cell_type": "code",
   "execution_count": 69,
   "id": "0804d1bb",
   "metadata": {},
   "outputs": [
    {
     "name": "stdout",
     "output_type": "stream",
     "text": [
      "Position of 'World': 7\n"
     ]
    }
   ],
   "source": [
    "#5. Searching in strings using index()\n",
    "str1 = \"Hello, World!\"\n",
    "position = str1.index(\"World\")\n",
    "print(\"Position of 'World':\", position)"
   ]
  },
  {
   "cell_type": "code",
   "execution_count": 70,
   "id": "a40b5695",
   "metadata": {},
   "outputs": [
    {
     "name": "stdout",
     "output_type": "stream",
     "text": [
      "String matches the pattern!\n"
     ]
    }
   ],
   "source": [
    "#6. Matching a String Against a Regular Expression With matches()\n",
    "import re\n",
    "pattern = r\"[A-Za-z]+\"\n",
    "string = \"HelloWorld\"\n",
    "if re.fullmatch(pattern, string):\n",
    "    print(\"String matches the pattern!\")\n",
    "else:\n",
    "    print(\"String does not match the pattern.\")"
   ]
  },
  {
   "cell_type": "code",
   "execution_count": 71,
   "id": "46dfd5a3",
   "metadata": {},
   "outputs": [
    {
     "name": "stdout",
     "output_type": "stream",
     "text": [
      "True\n",
      "False\n",
      "True\n",
      "False\n",
      "True\n"
     ]
    }
   ],
   "source": [
    "#7. Comparing strings\n",
    "str1 = \"Hello\"\n",
    "str2 = \"Hello\"\n",
    "str3 = \"World\"\n",
    "print(str1 == str2)\n",
    "print(str1 == str3)\n",
    "print(str1 != str3)\n",
    "print(\"apple\" > \"banana\")\n",
    "print(\"car\" < \"zebra\")"
   ]
  },
  {
   "cell_type": "code",
   "execution_count": 72,
   "id": "43a5c8c6",
   "metadata": {},
   "outputs": [
    {
     "name": "stdout",
     "output_type": "stream",
     "text": [
      "True\n",
      "False\n",
      "True\n",
      "False\n",
      "False\n",
      "True\n",
      "True\n"
     ]
    }
   ],
   "source": [
    "#8. startsWith(), endsWith() and compareTo()\n",
    "string = \"Hello, World!\"\n",
    "print(string.startswith(\"Hello\"))\n",
    "print(string.startswith(\"World\"))\n",
    "\n",
    "print(string.endswith(\"World!\"))\n",
    "print(string.endswith(\"Hello\"))\n",
    "#compare\n",
    "str1 = \"apple\"\n",
    "str2 = \"banana\"\n",
    "str3 = \"apple\"\n",
    "print(str1 > str2)\n",
    "print(str1 < str2)\n",
    "print(str1 == str3)"
   ]
  },
  {
   "cell_type": "code",
   "execution_count": 73,
   "id": "8451d609",
   "metadata": {},
   "outputs": [
    {
     "name": "stdout",
     "output_type": "stream",
     "text": [
      "'Hello, World!   '\n",
      "'   Hello, World!'\n"
     ]
    }
   ],
   "source": [
    "#9. Trimming strings with strip() \n",
    "#lstrip\n",
    "string = \"   Hello, World!   \"\n",
    "trimmed = string.lstrip()\n",
    "print(repr(trimmed))\n",
    "#rstrip\n",
    "string = \"   Hello, World!   \"\n",
    "trimmed = string.rstrip()\n",
    "print(repr(trimmed))"
   ]
  },
  {
   "cell_type": "code",
   "execution_count": 74,
   "id": "b39042f9",
   "metadata": {},
   "outputs": [
    {
     "name": "stdout",
     "output_type": "stream",
     "text": [
      "Hello, Python!\n"
     ]
    }
   ],
   "source": [
    "#10. Replacing characters in strings with replace()\n",
    "string = \"Hello, World!\"\n",
    "new_string = string.replace(\"World\", \"Python\")\n",
    "print(new_string)"
   ]
  },
  {
   "cell_type": "code",
   "execution_count": 75,
   "id": "14b6a4db",
   "metadata": {},
   "outputs": [
    {
     "name": "stdout",
     "output_type": "stream",
     "text": [
      "['Hello', 'World', 'Python']\n"
     ]
    }
   ],
   "source": [
    "#11. Splitting strings with split()\n",
    "string = \"Hello World Python\"\n",
    "words = string.split()\n",
    "print(words)"
   ]
  },
  {
   "cell_type": "code",
   "execution_count": 76,
   "id": "2cabeec9",
   "metadata": {},
   "outputs": [
    {
     "name": "stdout",
     "output_type": "stream",
     "text": [
      "100\n",
      "<class 'str'>\n"
     ]
    }
   ],
   "source": [
    "#12. Converting integer objects to Strings\n",
    "num = 100\n",
    "str_num = str(num)\n",
    "print(str_num)\n",
    "print(type(str_num))"
   ]
  },
  {
   "cell_type": "code",
   "execution_count": 77,
   "id": "f7c90460",
   "metadata": {},
   "outputs": [
    {
     "name": "stdout",
     "output_type": "stream",
     "text": [
      "HELLO WORLD\n",
      "hello world\n"
     ]
    }
   ],
   "source": [
    "#13. Converting to uppercase and lowercase\n",
    "#Converting to uppercase\n",
    "text = \"hello world\"\n",
    "uppercase_text = text.upper()\n",
    "print(uppercase_text)\n",
    "# Converting to lowercase\n",
    "text = \"HELLO WORLD\"\n",
    "lowercase_text = text.lower()\n",
    "print(lowercase_text)"
   ]
  },
  {
   "cell_type": "markdown",
   "id": "401dc77e",
   "metadata": {},
   "source": [
    "# 7.INHERITANCE"
   ]
  },
  {
   "cell_type": "code",
   "execution_count": 78,
   "id": "d56525f9",
   "metadata": {},
   "outputs": [
    {
     "name": "stdout",
     "output_type": "stream",
     "text": [
      "Calling methods using Class A object:\n",
      "Method A1 of Class A\n",
      "Method A2 of Class A\n",
      "Display Method in Class A\n",
      "\n",
      "Calling methods using Class B object:\n",
      "Method A1 of Class A\n",
      "Method A2 of Class A\n",
      "Method B1 of Class B\n",
      "Method B2 of Class B\n",
      "Display Method in Class B\n",
      "\n",
      "Calling methods using Class C object:\n",
      "Method A1 of Class A\n",
      "Method A2 of Class A\n",
      "Method B1 of Class B\n",
      "Method B2 of Class B\n",
      "Method C1 of Class C\n",
      "Method C2 of Class C\n",
      "Display Method in Class C\n",
      "\n",
      "Calling overridden methods using superclass reference:\n",
      "Display Method in Class B\n",
      "Display Method in Class C\n",
      "Display Method in Class C\n",
      "\n",
      "Demonstrating Polymorphism with Instance Variables:\n",
      "A reference to B object: 20\n",
      "A reference to C object: 30\n"
     ]
    }
   ],
   "source": [
    "class A:\n",
    "    def __init__(self):\n",
    "        self.num = 10\n",
    "    def method_a1(self):\n",
    "        print(\"Method A1 of Class A\")\n",
    "    def method_a2(self):\n",
    "        print(\"Method A2 of Class A\")\n",
    "    def display(self):\n",
    "        print(\"Display Method in Class A\")\n",
    "class B(A):\n",
    "    def __init__(self):\n",
    "        super().__init__()\n",
    "        self.num = 20 \n",
    "    def method_b1(self):\n",
    "        print(\"Method B1 of Class B\")\n",
    "    def method_b2(self):\n",
    "        print(\"Method B2 of Class B\")\n",
    "    def display(self):\n",
    "        print(\"Display Method in Class B\")\n",
    "class C(B):\n",
    "    def __init__(self):\n",
    "        super().__init__()\n",
    "        self.num = 30\n",
    "    def method_c1(self):\n",
    "        print(\"Method C1 of Class C\")\n",
    "    def method_c2(self):\n",
    "        print(\"Method C2 of Class C\")\n",
    "    def display(self):\n",
    "        print(\"Display Method in Class C\")\n",
    "if __name__ == \"__main__\":\n",
    "    obj_a = A()\n",
    "    obj_b = B()\n",
    "    obj_c = C()\n",
    "    print(\"Calling methods using Class A object:\")\n",
    "    obj_a.method_a1()\n",
    "    obj_a.method_a2()\n",
    "    obj_a.display()\n",
    "    print(\"\\nCalling methods using Class B object:\")\n",
    "    obj_b.method_a1()\n",
    "    obj_b.method_a2()\n",
    "    obj_b.method_b1()\n",
    "    obj_b.method_b2()\n",
    "    obj_b.display()\n",
    "    print(\"\\nCalling methods using Class C object:\")\n",
    "    obj_c.method_a1()\n",
    "    obj_c.method_a2()\n",
    "    obj_c.method_b1()\n",
    "    obj_c.method_b2()\n",
    "    obj_c.method_c1()\n",
    "    obj_c.method_c2()\n",
    "    obj_c.display()\n",
    "    print(\"\\nCalling overridden methods using superclass reference:\")\n",
    "    ref1 = B()\n",
    "    ref1.display()\n",
    "    ref2 = C()\n",
    "    ref2.display()\n",
    "    ref3 = C()\n",
    "    ref3.display()\n",
    "    print(\"\\nDemonstrating Polymorphism with Instance Variables:\")\n",
    "    print(\"A reference to B object:\", obj_b.num)\n",
    "    print(\"A reference to C object:\", obj_c.num)"
   ]
  },
  {
   "cell_type": "markdown",
   "id": "781fef8b",
   "metadata": {},
   "source": [
    "# 8.ACCESS MODIFIERS"
   ]
  },
  {
   "cell_type": "code",
   "execution_count": 79,
   "id": "9b680b79",
   "metadata": {},
   "outputs": [
    {
     "name": "stdout",
     "output_type": "stream",
     "text": [
      "Accessing private field inside the class: This is a private field\n",
      "This is a private method.\n",
      "Cannot access private field directly in subclass!\n",
      "Cannot access private method directly in subclass!\n",
      "Accessing private field using name mangling: This is a private field\n",
      "This is a private method.\n"
     ]
    }
   ],
   "source": [
    "# Parent class with private fields and a private method\n",
    "class Parent:\n",
    "    def __init__(self):\n",
    "        self.__private_field = \"This is a private field\"\n",
    "    def __private_method(self):\n",
    "        print(\"This is a private method.\")\n",
    "    def access_private_method(self):\n",
    "        self.__private_method()\n",
    "    def get_private_field(self):\n",
    "        return self.__private_field\n",
    "if __name__ == \"__main__\":\n",
    "    obj = Parent()\n",
    "    print(\"Accessing private field inside the class:\", obj.get_private_field())\n",
    "    obj.access_private_method()\n",
    "class Child(Parent):\n",
    "    def show_private(self):\n",
    "        try:\n",
    "            print(\"Trying to access private field:\", self.__private_field)\n",
    "        except AttributeError:\n",
    "            print(\"Cannot access private field directly in subclass!\")\n",
    "        try:\n",
    "            self.__private_method()\n",
    "        except AttributeError:\n",
    "            print(\"Cannot access private method directly in subclass!\")\n",
    "        print(\"Accessing private field using name mangling:\", self._Parent__private_field)\n",
    "        self._Parent__private_method()\n",
    "child_obj = Child()\n",
    "child_obj.show_private()"
   ]
  },
  {
   "cell_type": "code",
   "execution_count": 88,
   "id": "2f6b61b9",
   "metadata": {},
   "outputs": [
    {
     "name": "stdout",
     "output_type": "stream",
     "text": [
      "\n",
      "🔹 Accessing within Parent class:\n",
      "Field: This is a protected field\n",
      "This is a protected method.\n",
      "\n",
      "🔹 Accessing from a class in the same module:\n",
      "Field: This is a protected field\n",
      "This is a protected method.\n",
      "\n",
      "🔹 Accessing from Child Class (Another Module Simulation):\n",
      "Field: This is a protected field\n",
      "This is a protected method.\n",
      "\n",
      "🔹 Accessing from Unrelated Class (Different Module Simulation):\n",
      "Field: This is a protected field\n",
      "This is a protected method.\n"
     ]
    }
   ],
   "source": [
    "# access_protected\n",
    "class Parent:\n",
    "    def __init__(self):\n",
    "        self._protected_field = \"This is a protected field\"\n",
    "    def _protected_method(self):\n",
    "        print(\"This is a protected method.\")\n",
    "    def show_protected(self):\n",
    "        print(\"\\n🔹 Accessing within Parent class:\")\n",
    "        print(\"Field:\", self._protected_field)\n",
    "        self._protected_method()\n",
    "class SameModule:\n",
    "    def access_protected(self):\n",
    "        parent = Parent()\n",
    "        print(\"\\n🔹 Accessing from a class in the same module:\")\n",
    "        print(\"Field:\", parent._protected_field)\n",
    "        parent._protected_method()\n",
    "# Subclass\n",
    "class Child(Parent):\n",
    "    def access_protected_from_child(self):\n",
    "        print(\"\\n🔹 Accessing from Child Class (Another Module Simulation):\")\n",
    "        print(\"Field:\", self._protected_field)\n",
    "        self._protected_method()\n",
    "# Unrelated Class\n",
    "class Unrelated:\n",
    "    def access_protected_from_unrelated(self):\n",
    "        parent_obj = Parent()\n",
    "        print(\"\\n🔹 Accessing from Unrelated Class (Different Module Simulation):\")\n",
    "        try:\n",
    "            print(\"Field:\", parent_obj._protected_field)\n",
    "            parent_obj._protected_method()\n",
    "        except AttributeError:\n",
    "            print(\"Cannot access protected members from an unrelated class.\")\n",
    "# Main Execution\n",
    "if __name__ == \"__main__\":\n",
    "    # Parent Class\n",
    "    parent_obj = Parent()\n",
    "    parent_obj.show_protected()\n",
    "\n",
    "    # Same Module Access\n",
    "    obj_same = SameModule()\n",
    "    obj_same.access_protected()\n",
    "\n",
    "    # Child Class Access (Another Module Simulation)\n",
    "    child_obj = Child()\n",
    "    child_obj.access_protected_from_child()\n",
    "\n",
    "    # Unrelated Class Access (Another Module Simulation)\n",
    "    unrelated_obj = Unrelated()\n",
    "    unrelated_obj.access_protected_from_unrelated()\n"
   ]
  },
  {
   "cell_type": "code",
   "execution_count": 89,
   "id": "daa2c86f",
   "metadata": {},
   "outputs": [
    {
     "name": "stdout",
     "output_type": "stream",
     "text": [
      "\n",
      "🔹 Accessing within Parent class:\n",
      "Field: This is a public field\n",
      "This is a public method.\n",
      "\n",
      "🔹 Accessing from a class in the same module:\n",
      "Field: This is a public field\n",
      "This is a public method.\n",
      "\n",
      "🔹 Accessing from Child Class (Another Module Simulation):\n",
      "Field: This is a public field\n",
      "This is a public method.\n",
      "\n",
      "🔹 Accessing from Unrelated Class (Different Module Simulation):\n",
      "Field: This is a public field\n",
      "This is a public method.\n"
     ]
    }
   ],
   "source": [
    "# access_public\n",
    "\n",
    "class Parent:\n",
    "    def __init__(self):\n",
    "        self.public_field = \"This is a public field\"\n",
    "\n",
    "    def public_method(self):\n",
    "        print(\"This is a public method.\")\n",
    "\n",
    "    def show_public(self):\n",
    "        print(\"\\n🔹 Accessing within Parent class:\")\n",
    "        print(\"Field:\", self.public_field)\n",
    "        self.public_method()\n",
    "\n",
    "# Another class in the same module\n",
    "class SameModule:\n",
    "    def access_public(self):\n",
    "        parent = Parent()\n",
    "        print(\"\\n🔹 Accessing from a class in the same module:\")\n",
    "        print(\"Field:\", parent.public_field)\n",
    "        parent.public_method()\n",
    "# Subclass\n",
    "class Child(Parent):\n",
    "    def access_public_from_child(self):\n",
    "        print(\"\\n🔹 Accessing from Child Class (Another Module Simulation):\")\n",
    "        print(\"Field:\", self.public_field)\n",
    "        self.public_method()\n",
    "# Unrelated Class\n",
    "class Unrelated:\n",
    "    def access_public_from_unrelated(self):\n",
    "        parent_obj = Parent()\n",
    "        print(\"\\n🔹 Accessing from Unrelated Class (Different Module Simulation):\")\n",
    "        print(\"Field:\", parent_obj.public_field)\n",
    "        parent_obj.public_method()\n",
    "\n",
    "\n",
    "# Main Execution\n",
    "if __name__ == \"__main__\":\n",
    "    # Parent Class\n",
    "    parent_obj = Parent()\n",
    "    parent_obj.show_public()\n",
    "\n",
    "    # Same Module Access\n",
    "    obj_same = SameModule()\n",
    "    obj_same.access_public()\n",
    "\n",
    "    # Child Class Access\n",
    "    child_obj = Child()\n",
    "    child_obj.access_public_from_child()\n",
    "\n",
    "    # Unrelated Class Access \n",
    "    unrelated_obj = Unrelated()\n",
    "    unrelated_obj.access_public_from_unrelated()\n"
   ]
  },
  {
   "cell_type": "markdown",
   "id": "1a640edc",
   "metadata": {},
   "source": [
    "# 9.ABSTRACT CLASS"
   ]
  },
  {
   "cell_type": "code",
   "execution_count": 90,
   "id": "2a87ef37",
   "metadata": {},
   "outputs": [
    {
     "name": "stdout",
     "output_type": "stream",
     "text": [
      "\n",
      "This is Buddy.\n",
      "Woof! Woof!\n",
      "\n",
      "This is Whiskers.\n",
      "Meow! Meow!\n"
     ]
    }
   ],
   "source": [
    "#1. Create an abstract class with abstract and non-abstract methods.\n",
    "from abc import ABC, abstractmethod\n",
    "class Animal(ABC):  \n",
    "    def __init__(self, name):\n",
    "        self.name = name\n",
    "    @abstractmethod\n",
    "    def make_sound(self):\n",
    "        pass  \n",
    "    def show_info(self):\n",
    "        print(f\"\\nThis is {self.name}.\")\n",
    "class Dog(Animal):  \n",
    "    def make_sound(self):  \n",
    "        print(\"Woof! Woof!\")\n",
    "\n",
    "class Cat(Animal):  \n",
    "    def make_sound(self):  \n",
    "        print(\"Meow! Meow!\")\n",
    "\n",
    "# Main Execution\n",
    "if __name__ == \"__main__\":\n",
    "    dog = Dog(\"Buddy\")\n",
    "    dog.show_info()\n",
    "    dog.make_sound()\n",
    "\n",
    "    cat = Cat(\"Whiskers\")\n",
    "    cat.show_info()\n",
    "    cat.make_sound()\n"
   ]
  },
  {
   "cell_type": "code",
   "execution_count": 91,
   "id": "39d83152",
   "metadata": {},
   "outputs": [
    {
     "name": "stdout",
     "output_type": "stream",
     "text": [
      "\n",
      "This is a Tesla vehicle.\n",
      "Car engine started. Vroom!\n"
     ]
    }
   ],
   "source": [
    "#2. Create a sub class for an abstract class. Create an object in the child class for the  abstract class and access the non-abstract methods \n",
    "from abc import ABC, abstractmethod\n",
    "class Vehicle(ABC):  \n",
    "    def __init__(self, brand):\n",
    "        self.brand = brand\n",
    "    @abstractmethod\n",
    "    def start_engine(self):\n",
    "        pass  \n",
    "    def display_info(self):\n",
    "        print(f\"\\nThis is a {self.brand} vehicle.\")\n",
    "class Car(Vehicle):  \n",
    "    def start_engine(self):  \n",
    "        print(\"Car engine started. Vroom!\")\n",
    "if __name__ == \"__main__\":\n",
    "    car = Car(\"Tesla\")\n",
    "    car.display_info()\n",
    "    car.start_engine()"
   ]
  },
  {
   "cell_type": "code",
   "execution_count": 92,
   "id": "21517219",
   "metadata": {},
   "outputs": [
    {
     "name": "stdout",
     "output_type": "stream",
     "text": [
      "\n",
      "🔹 Inside Child Class - Creating an Instance:\n",
      "\n",
      "This is a Circle.\n",
      "Area: 78.5\n"
     ]
    }
   ],
   "source": [
    "#3. Create an instance for the child class in child class and call abstract methods\n",
    "from abc import ABC, abstractmethod\n",
    "class Shape(ABC):  \n",
    "    def __init__(self, name):\n",
    "        self.name = name\n",
    "    @abstractmethod\n",
    "    def area(self):\n",
    "        pass  \n",
    "    def display(self):\n",
    "        print(f\"\\nThis is a {self.name}.\")\n",
    "class Circle(Shape):  \n",
    "    def __init__(self, radius):\n",
    "        super().__init__(\"Circle\")\n",
    "        self.radius = radius\n",
    "    def area(self):  \n",
    "        return 3.14 * self.radius * self.radius\n",
    "    def create_and_use_instance(self):\n",
    "        print(\"\\n🔹 Inside Child Class - Creating an Instance:\")\n",
    "        obj = Circle(5)\n",
    "        obj.display()\n",
    "        print(\"Area:\", obj.area())\n",
    "if __name__ == \"__main__\":\n",
    "    c = Circle(5)\n",
    "    c.create_and_use_instance()"
   ]
  },
  {
   "cell_type": "code",
   "execution_count": 93,
   "id": "0edfc2a6",
   "metadata": {},
   "outputs": [
    {
     "name": "stdout",
     "output_type": "stream",
     "text": [
      "\n",
      "🔹 Inside Child Class - Creating an Instance:\n",
      "\n",
      "This is a Dog.\n"
     ]
    }
   ],
   "source": [
    "#4. Create an instance for the child class in child class and call non-abstract methods\n",
    "from abc import ABC, abstractmethod\n",
    "class Animal(ABC):  \n",
    "    def __init__(self, name):\n",
    "        self.name = name\n",
    "    @abstractmethod\n",
    "    def make_sound(self):\n",
    "        pass  \n",
    "    def display_info(self):\n",
    "        print(f\"\\nThis is a {self.name}.\")\n",
    "class Dog(Animal):  \n",
    "    def __init__(self, breed):\n",
    "        super().__init__(\"Dog\")\n",
    "        self.breed = breed\n",
    "    def make_sound(self):  \n",
    "        print(\"Woof! Woof!\")\n",
    "    def create_and_use_instance(self):\n",
    "        print(\"\\n🔹 Inside Child Class - Creating an Instance:\")\n",
    "        obj = Dog(\"Golden Retriever\")\n",
    "        obj.display_info()\n",
    "if __name__ == \"__main__\":\n",
    "    d = Dog(\"Bulldog\")\n",
    "    d.create_and_use_instance()"
   ]
  },
  {
   "cell_type": "markdown",
   "id": "25f81249",
   "metadata": {},
   "source": [
    "# 10.PACKAGES"
   ]
  },
  {
   "cell_type": "code",
   "execution_count": 100,
   "id": "34da33c3",
   "metadata": {},
   "outputs": [
    {
     "name": "stdout",
     "output_type": "stream",
     "text": [
      "ClassA Constructor Called!\n",
      "Method from ClassA\n",
      "ClassB Constructor Called!\n",
      "Method from ClassB\n"
     ]
    }
   ],
   "source": [
    "# Define ClassA in a simulated \"package1\"\n",
    "class ClassA:\n",
    "    def __init__(self):\n",
    "        print(\"ClassA Constructor Called!\")\n",
    "\n",
    "    def method_a(self):\n",
    "        print(\"Method from ClassA\")\n",
    "\n",
    "# Define ClassB in a simulated \"package2\"\n",
    "class ClassB:\n",
    "    def __init__(self):\n",
    "        print(\"ClassB Constructor Called!\")\n",
    "\n",
    "    def method_b(self):\n",
    "        print(\"Method from ClassB\")\n",
    "\n",
    "# Main Execution\n",
    "if __name__ == \"__main__\":\n",
    "    objA = ClassA()\n",
    "    objA.method_a()\n",
    "    objB = ClassB()\n",
    "    objB.method_b()"
   ]
  },
  {
   "cell_type": "markdown",
   "id": "dd6b27cd",
   "metadata": {},
   "source": [
    "# 11.FILES"
   ]
  },
  {
   "cell_type": "code",
   "execution_count": 3,
   "id": "941a30e7",
   "metadata": {},
   "outputs": [
    {
     "name": "stdout",
     "output_type": "stream",
     "text": [
      "File created and written successfully!\n"
     ]
    }
   ],
   "source": [
    "# Create and write some content to the file\n",
    "with open(\"datingTestSet2.txt\", \"w\") as file:\n",
    "    file.write(\"Sample data for testing...\\nLine 2\\nLine 3\")\n",
    "print(\"File created and written successfully!\")"
   ]
  },
  {
   "cell_type": "code",
   "execution_count": 5,
   "id": "8a46857d",
   "metadata": {},
   "outputs": [
    {
     "name": "stdout",
     "output_type": "stream",
     "text": [
      "File Content:\n",
      " Sample data for testing...\n",
      "Line 2\n",
      "Line 3\n"
     ]
    }
   ],
   "source": [
    "#1. Write a program to read text file\n",
    "with open(\"datingTestSet2.txt\", \"r\") as file:\n",
    "    content = file.read()\n",
    "    print(\"File Content:\\n\", content)"
   ]
  },
  {
   "cell_type": "code",
   "execution_count": 6,
   "id": "7701b4ca",
   "metadata": {},
   "outputs": [
    {
     "name": "stdout",
     "output_type": "stream",
     "text": [
      "Enter text to save in file: datingTestSet2.txt\"\n",
      "Text successfully written to output.txt!\n"
     ]
    }
   ],
   "source": [
    "#2. Write a program to write text to .txt file using  InputStream\n",
    "text = input(\"Enter text to save in file: \")\n",
    "with open(\"output.txt\", \"w\") as file:\n",
    "    file.write(text)\n",
    "print(\"Text successfully written to output.txt!\")"
   ]
  },
  {
   "cell_type": "code",
   "execution_count": 8,
   "id": "e96f0270",
   "metadata": {},
   "outputs": [
    {
     "name": "stdout",
     "output_type": "stream",
     "text": [
      "Sample data for testing...\n",
      "Line 2\n",
      "Line 3"
     ]
    }
   ],
   "source": [
    "#3. Write a program to read a file stream\n",
    "with open(\"datingTestSet2.txt\", \"r\") as file:\n",
    "    for line in file:\n",
    "        print(line, end=\"\")"
   ]
  },
  {
   "cell_type": "code",
   "execution_count": 9,
   "id": "6ef51288",
   "metadata": {},
   "outputs": [
    {
     "name": "stdout",
     "output_type": "stream",
     "text": [
      "Randomly accessed content: a for testing...\n",
      "Lin\n"
     ]
    }
   ],
   "source": [
    "#4. Write a program to read a file stream supports random access\n",
    "with open(\"datingTestSet2.txt\", \"r\") as file:\n",
    "    file.seek(10)\n",
    "    content = file.read(20)\n",
    "    print(\"Randomly accessed content:\", content)"
   ]
  },
  {
   "cell_type": "code",
   "execution_count": 10,
   "id": "b712d488",
   "metadata": {},
   "outputs": [
    {
     "name": "stdout",
     "output_type": "stream",
     "text": [
      "Content from index 10: a for testing...\n",
      "Lin\n"
     ]
    }
   ],
   "source": [
    "#5. Write a program to read a file a just to a particular index using seek()\n",
    "with open(\"datingTestSet2.txt\", \"r\") as file:\n",
    "    file.seek(10)\n",
    "    content = file.read(20)\n",
    "    print(\"Content from index 10:\", content)"
   ]
  },
  {
   "cell_type": "code",
   "execution_count": 11,
   "id": "cb75dd7a",
   "metadata": {},
   "outputs": [
    {
     "name": "stdout",
     "output_type": "stream",
     "text": [
      "Read Permission: Yes\n",
      "Write Permission: Yes\n"
     ]
    }
   ],
   "source": [
    "#6. Write a program to check whether a file is having read access and write access permissions\n",
    "import os\n",
    "filename = \"datingTestSet2.txt\"\n",
    "has_read_permission = os.access(filename, os.R_OK)\n",
    "has_write_permission = os.access(filename, os.W_OK)\n",
    "print(f\"Read Permission: {'Yes' if has_read_permission else 'No'}\")\n",
    "print(f\"Write Permission: {'Yes' if has_write_permission else 'No'}\")"
   ]
  },
  {
   "cell_type": "markdown",
   "id": "f52817f0",
   "metadata": {},
   "source": [
    "# 12.CONSTRUCTORS"
   ]
  },
  {
   "cell_type": "code",
   "execution_count": 104,
   "id": "adad85ee",
   "metadata": {},
   "outputs": [
    {
     "name": "stdout",
     "output_type": "stream",
     "text": [
      "Default Constructor Called\n",
      "One-Argument Constructor Called: 10\n",
      "Two-Argument Constructor Called: 10, Hello\n"
     ]
    }
   ],
   "source": [
    "class MyClass:\n",
    "    def __init__(self, arg1=None, arg2=None):\n",
    "        if arg1 is None and arg2 is None:\n",
    "            print(\"Default Constructor Called\")\n",
    "        elif arg2 is None:\n",
    "            print(f\"One-Argument Constructor Called: {arg1}\")\n",
    "        else:\n",
    "            print(f\"Two-Argument Constructor Called: {arg1}, {arg2}\")\n",
    "if __name__ == \"__main__\":\n",
    "    obj1 = MyClass()\n",
    "    obj2 = MyClass(10)\n",
    "    obj3 = MyClass(10, \"Hello\")"
   ]
  },
  {
   "cell_type": "code",
   "execution_count": 105,
   "id": "5cda8c1c",
   "metadata": {},
   "outputs": [
    {
     "name": "stdout",
     "output_type": "stream",
     "text": [
      "Case 1: Calling Default Constructor\n",
      "Parent Default Constructor Called\n",
      "Child Default Constructor Called\n",
      "\n",
      "Case 2: Calling Argument Constructor\n",
      "Parent Argument Constructor Called: 100\n",
      "Child Argument Constructor Called: 100\n"
     ]
    }
   ],
   "source": [
    "#2. Call the constructors(both default and argument constructors) of super class from a child class\n",
    "class Parent:\n",
    "    def __init__(self, arg1=None):\n",
    "        if arg1 is None:\n",
    "            print(\"Parent Default Constructor Called\")\n",
    "        else:\n",
    "            print(f\"Parent Argument Constructor Called: {arg1}\")\n",
    "class Child(Parent):\n",
    "    def __init__(self, arg1=None):\n",
    "        if arg1 is None:\n",
    "            super().__init__()\n",
    "            print(\"Child Default Constructor Called\")\n",
    "        else:\n",
    "            super().__init__(arg1)\n",
    "            print(f\"Child Argument Constructor Called: {arg1}\")\n",
    "print(\"Case 1: Calling Default Constructor\")\n",
    "obj1 = Child()  \n",
    "print(\"\\nCase 2: Calling Argument Constructor\")\n",
    "obj2 = Child(100)  "
   ]
  },
  {
   "cell_type": "code",
   "execution_count": 106,
   "id": "31dedb9b",
   "metadata": {},
   "outputs": [
    {
     "name": "stdout",
     "output_type": "stream",
     "text": [
      "Public Constructor Called\n",
      "Protected Constructor Called\n",
      "Private Constructor Called\n"
     ]
    }
   ],
   "source": [
    "#3. Apply private, public, protected and default access modifiers to the constructor\n",
    "class Example:\n",
    "    def __init__(self):\n",
    "        print(\"Public Constructor Called\")\n",
    "    def _protected_constructor(self):\n",
    "        print(\"Protected Constructor Called\")\n",
    "    def __private_constructor(self):\n",
    "        print(\"Private Constructor Called\")\n",
    "    def access_private_constructor(self):\n",
    "        self.__private_constructor()\n",
    "obj = Example()\n",
    "obj._protected_constructor()\n",
    "obj.access_private_constructor()"
   ]
  },
  {
   "cell_type": "code",
   "execution_count": 107,
   "id": "e25f85eb",
   "metadata": {},
   "outputs": [
    {
     "name": "stdout",
     "output_type": "stream",
     "text": [
      "Constructor Called: Alice, 25\n",
      "Constructor Called: Bob, 30\n",
      "Name: Alice, Age: 25, Species: Human\n",
      "Name: Bob, Age: 30, Species: Human\n"
     ]
    }
   ],
   "source": [
    "#4. Write a program which illustrates the concept of attributes of a constructor.\n",
    "class Person:\n",
    "    species = \"Human\"\n",
    "    def __init__(self, name, age):\n",
    "        self.name = name\n",
    "        self.age = age\n",
    "        print(f\"Constructor Called: {self.name}, {self.age}\")\n",
    "    def display(self):\n",
    "        print(f\"Name: {self.name}, Age: {self.age}, Species: {Person.species}\")\n",
    "person1 = Person(\"Alice\", 25)\n",
    "person2 = Person(\"Bob\", 30)\n",
    "person1.display()\n",
    "person2.display()"
   ]
  },
  {
   "cell_type": "markdown",
   "id": "bdb573bb",
   "metadata": {},
   "source": [
    "# 13.METHOD OVERLOADING"
   ]
  },
  {
   "cell_type": "code",
   "execution_count": 108,
   "id": "3e13090d",
   "metadata": {},
   "outputs": [
    {
     "name": "stdout",
     "output_type": "stream",
     "text": [
      "Method with One Parameter: 10\n",
      "Method with Two Parameters: 10, 20\n"
     ]
    }
   ],
   "source": [
    "#1. Write two methods with the same name but different number of parameters of same type and call the methods\n",
    "class Example:\n",
    "    def show(self, a, b=None):\n",
    "        if b is None:\n",
    "            print(f\"Method with One Parameter: {a}\")\n",
    "        else:\n",
    "            print(f\"Method with Two Parameters: {a}, {b}\")\n",
    "obj = Example()\n",
    "obj.show(10)\n",
    "obj.show(10, 20)"
   ]
  },
  {
   "cell_type": "code",
   "execution_count": 109,
   "id": "ca258a0b",
   "metadata": {},
   "outputs": [
    {
     "name": "stdout",
     "output_type": "stream",
     "text": [
      "Single Parameter: 10, Type: int\n",
      "Single Parameter: Hello, Type: str\n",
      "Two Parameters: 10 (int), World (str)\n",
      "Two Parameters: 3.14 (float), 42 (int)\n"
     ]
    }
   ],
   "source": [
    "#2. Write two methods with the same name but different number of parameters of different data type and call the methods\n",
    "class Example:\n",
    "    def show(self, a, b=None):\n",
    "        if b is None:\n",
    "            print(f\"Single Parameter: {a}, Type: {type(a).__name__}\")\n",
    "        else:\n",
    "            print(f\"Two Parameters: {a} ({type(a).__name__}), {b} ({type(b).__name__})\")\n",
    "obj = Example()\n",
    "obj.show(10)\n",
    "obj.show(\"Hello\")\n",
    "obj.show(10, \"World\")\n",
    "obj.show(3.14, 42)"
   ]
  },
  {
   "cell_type": "code",
   "execution_count": 110,
   "id": "899782bb",
   "metadata": {},
   "outputs": [
    {
     "name": "stdout",
     "output_type": "stream",
     "text": [
      "Second Method: Product = 15\n"
     ]
    }
   ],
   "source": [
    "#3. Write two methods with the same name and same number of parameters of same type\n",
    "class Example:\n",
    "    def show(self, a, b):\n",
    "        print(f\"First Method: Sum = {a + b}\")\n",
    "    def show(self, a, b):\n",
    "        print(f\"Second Method: Product = {a * b}\")\n",
    "obj = Example()\n",
    "obj.show(5, 3)"
   ]
  },
  {
   "cell_type": "markdown",
   "id": "41b27b77",
   "metadata": {},
   "source": [
    "# 14.EXCEPTIONS"
   ]
  },
  {
   "cell_type": "code",
   "execution_count": 111,
   "id": "b9d80069",
   "metadata": {},
   "outputs": [
    {
     "ename": "ZeroDivisionError",
     "evalue": "division by zero",
     "output_type": "error",
     "traceback": [
      "\u001b[1;31m---------------------------------------------------------------------------\u001b[0m",
      "\u001b[1;31mZeroDivisionError\u001b[0m                         Traceback (most recent call last)",
      "Cell \u001b[1;32mIn[111], line 2\u001b[0m\n\u001b[0;32m      1\u001b[0m \u001b[38;5;66;03m#1. Write a program to generate Arithmetic Exception without exception handling\u001b[39;00m\n\u001b[1;32m----> 2\u001b[0m result \u001b[38;5;241m=\u001b[39m \u001b[38;5;241m10\u001b[39m \u001b[38;5;241m/\u001b[39m \u001b[38;5;241m0\u001b[39m\n\u001b[0;32m      3\u001b[0m \u001b[38;5;28mprint\u001b[39m(\u001b[38;5;124m\"\u001b[39m\u001b[38;5;124mThis line will not be executed.\u001b[39m\u001b[38;5;124m\"\u001b[39m)\n",
      "\u001b[1;31mZeroDivisionError\u001b[0m: division by zero"
     ]
    }
   ],
   "source": [
    "#1. Write a program to generate Arithmetic Exception without exception handling\n",
    "result = 10 / 0\n",
    "print(\"apple\")"
   ]
  },
  {
   "cell_type": "code",
   "execution_count": 113,
   "id": "c5068599",
   "metadata": {},
   "outputs": [
    {
     "name": "stdout",
     "output_type": "stream",
     "text": [
      "Cannot divide by zero!\n",
      "Program\n"
     ]
    }
   ],
   "source": [
    "#2. Handle the Arithmetic exception using try-catch block\n",
    "try:\n",
    "    x = 10 / 0\n",
    "except ZeroDivisionError:\n",
    "    print(\"Cannot divide by zero!\")\n",
    "print(\"Program\")"
   ]
  },
  {
   "cell_type": "code",
   "execution_count": 114,
   "id": "ad5b3408",
   "metadata": {},
   "outputs": [
    {
     "name": "stdout",
     "output_type": "stream",
     "text": [
      "Calling divide method...\n",
      "Inside divide method\n"
     ]
    },
    {
     "ename": "ZeroDivisionError",
     "evalue": "This is a forced division by zero error!",
     "output_type": "error",
     "traceback": [
      "\u001b[1;31m---------------------------------------------------------------------------\u001b[0m",
      "\u001b[1;31mZeroDivisionError\u001b[0m                         Traceback (most recent call last)",
      "Cell \u001b[1;32mIn[114], line 9\u001b[0m\n\u001b[0;32m      7\u001b[0m \u001b[38;5;66;03m# Main class (without try-except)\u001b[39;00m\n\u001b[0;32m      8\u001b[0m \u001b[38;5;28mprint\u001b[39m(\u001b[38;5;124m\"\u001b[39m\u001b[38;5;124mCalling divide method...\u001b[39m\u001b[38;5;124m\"\u001b[39m)\n\u001b[1;32m----> 9\u001b[0m divide()  \u001b[38;5;66;03m# This will cause the program to crash\u001b[39;00m\n\u001b[0;32m     11\u001b[0m \u001b[38;5;28mprint\u001b[39m(\u001b[38;5;124m\"\u001b[39m\u001b[38;5;124mThis line will never execute due to unhandled exception.\u001b[39m\u001b[38;5;124m\"\u001b[39m)\n",
      "Cell \u001b[1;32mIn[114], line 5\u001b[0m, in \u001b[0;36mdivide\u001b[1;34m()\u001b[0m\n\u001b[0;32m      3\u001b[0m \u001b[38;5;28;01mdef\u001b[39;00m \u001b[38;5;21mdivide\u001b[39m():\n\u001b[0;32m      4\u001b[0m     \u001b[38;5;28mprint\u001b[39m(\u001b[38;5;124m\"\u001b[39m\u001b[38;5;124mInside divide method\u001b[39m\u001b[38;5;124m\"\u001b[39m)\n\u001b[1;32m----> 5\u001b[0m     \u001b[38;5;28;01mraise\u001b[39;00m \u001b[38;5;167;01mZeroDivisionError\u001b[39;00m(\u001b[38;5;124m\"\u001b[39m\u001b[38;5;124mThis is a forced division by zero error!\u001b[39m\u001b[38;5;124m\"\u001b[39m)\n",
      "\u001b[1;31mZeroDivisionError\u001b[0m: This is a forced division by zero error!"
     ]
    }
   ],
   "source": [
    "#3. Write a method which throws exception, Call that method in main class without try block\n",
    "def divide():\n",
    "    print(\"Inside divide method\")\n",
    "    raise ZeroDivisionError(\"This is a forced division by zero error!\")\n",
    "print(\"Calling divide method\")\n",
    "divide()\n",
    "print(\"This line will never execute due to unhandled exception.\")"
   ]
  },
  {
   "cell_type": "code",
   "execution_count": 118,
   "id": "f256c58a",
   "metadata": {},
   "outputs": [
    {
     "name": "stdout",
     "output_type": "stream",
     "text": [
      "Enter a number: 7\n",
      "Result: 1.4285714285714286\n",
      "Program continues after exception handling.\n"
     ]
    }
   ],
   "source": [
    "#4. Write a program with multiple catch blocks\n",
    "try:\n",
    "    x = int(input(\"Enter a number: \"))\n",
    "    result = 10 / x\n",
    "    print(\"Result:\", result)\n",
    "except ZeroDivisionError:\n",
    "    print(\"Error: Cannot divide by zero!\")\n",
    "except ValueError:\n",
    "    print(\"Error: Invalid input! Please enter a number.\")\n",
    "except Exception as e:\n",
    "    print(\"Some other error occurred:\", e)\n",
    "print(\"Program continues after exception handling.\")"
   ]
  },
  {
   "cell_type": "code",
   "execution_count": 121,
   "id": "843c5980",
   "metadata": {},
   "outputs": [
    {
     "name": "stdout",
     "output_type": "stream",
     "text": [
      "Enter your age: 34\n",
      "Access Granted!\n",
      "welcome\n"
     ]
    }
   ],
   "source": [
    "#5. Write a program to throw exception with your own message\n",
    "def check_age(age):\n",
    "    if age < 18:\n",
    "        raise ValueError(\"Access Denied: You must be 18 or older.\")\n",
    "    else:\n",
    "        print(\"Access Granted!\")\n",
    "age = int(input(\"Enter your age: \"))\n",
    "check_age(age)\n",
    "print(\"welcome\")"
   ]
  },
  {
   "cell_type": "code",
   "execution_count": 123,
   "id": "a0bcc888",
   "metadata": {},
   "outputs": [
    {
     "name": "stdout",
     "output_type": "stream",
     "text": [
      "Enter your age: 98\n",
      "Access Granted!\n",
      "Program\n"
     ]
    }
   ],
   "source": [
    "#6. Write a program to create your own exception\n",
    "class AgeTooYoungError(Exception):\n",
    "    def __init__(self, message=\"Age must be 18 or older!\"):\n",
    "        self.message = message\n",
    "        super().__init__(self.message)\n",
    "def check_age(age):\n",
    "    if age < 18:\n",
    "        raise AgeTooYoungError()\n",
    "    else:\n",
    "        print(\"Access Granted!\")\n",
    "age = int(input(\"Enter your age: \"))\n",
    "try:\n",
    "    check_age(age)\n",
    "except AgeTooYoungError as e:\n",
    "    print(\"Custom Exception Caught:\", e)\n",
    "print(\"Program\")"
   ]
  },
  {
   "cell_type": "code",
   "execution_count": 125,
   "id": "e112cd9d",
   "metadata": {},
   "outputs": [
    {
     "name": "stdout",
     "output_type": "stream",
     "text": [
      "Enter a number: 4\n",
      "Result: 2.5\n",
      "This is the finally block. It always executes!\n",
      "continues\n"
     ]
    }
   ],
   "source": [
    "#7. Write a program with finally block\n",
    "try:\n",
    "    num = int(input(\"Enter a number: \"))\n",
    "    result = 10 / num\n",
    "    print(\"Result:\", result)\n",
    "except ZeroDivisionError:\n",
    "    print(\"Error: Cannot divide by zero!\")\n",
    "except ValueError:\n",
    "    print(\"Error: Invalid input! Please enter a number.\")\n",
    "finally:\n",
    "    print(\"This is the finally block. It always executes!\")\n",
    "print(\"continues\")"
   ]
  },
  {
   "cell_type": "code",
   "execution_count": 126,
   "id": "30ddf121",
   "metadata": {},
   "outputs": [
    {
     "name": "stdout",
     "output_type": "stream",
     "text": [
      "Enter a number: 6\n",
      "Result: 1.6666666666666667\n"
     ]
    }
   ],
   "source": [
    "#8. Write a program to generate Arithmetic Exception\n",
    "num = int(input(\"Enter a number: \"))\n",
    "result = 10 / num\n",
    "print(\"Result:\", result)"
   ]
  },
  {
   "cell_type": "code",
   "execution_count": 127,
   "id": "20040628",
   "metadata": {},
   "outputs": [
    {
     "ename": "FileNotFoundError",
     "evalue": "[Errno 2] No such file or directory: 'non_existent_file.txt'",
     "output_type": "error",
     "traceback": [
      "\u001b[1;31m---------------------------------------------------------------------------\u001b[0m",
      "\u001b[1;31mFileNotFoundError\u001b[0m                         Traceback (most recent call last)",
      "Cell \u001b[1;32mIn[127], line 6\u001b[0m\n\u001b[0;32m      3\u001b[0m file_name \u001b[38;5;241m=\u001b[39m \u001b[38;5;124m\"\u001b[39m\u001b[38;5;124mnon_existent_file.txt\u001b[39m\u001b[38;5;124m\"\u001b[39m\n\u001b[0;32m      5\u001b[0m \u001b[38;5;66;03m# This will raise FileNotFoundError if the file does not exist\u001b[39;00m\n\u001b[1;32m----> 6\u001b[0m file \u001b[38;5;241m=\u001b[39m \u001b[38;5;28mopen\u001b[39m(file_name, \u001b[38;5;124m\"\u001b[39m\u001b[38;5;124mr\u001b[39m\u001b[38;5;124m\"\u001b[39m)  \n\u001b[0;32m      8\u001b[0m \u001b[38;5;66;03m# Read the file (this line won't execute if an exception occurs)\u001b[39;00m\n\u001b[0;32m      9\u001b[0m content \u001b[38;5;241m=\u001b[39m file\u001b[38;5;241m.\u001b[39mread()\n",
      "File \u001b[1;32m~\\anaconda3\\Lib\\site-packages\\IPython\\core\\interactiveshell.py:284\u001b[0m, in \u001b[0;36m_modified_open\u001b[1;34m(file, *args, **kwargs)\u001b[0m\n\u001b[0;32m    277\u001b[0m \u001b[38;5;28;01mif\u001b[39;00m file \u001b[38;5;129;01min\u001b[39;00m {\u001b[38;5;241m0\u001b[39m, \u001b[38;5;241m1\u001b[39m, \u001b[38;5;241m2\u001b[39m}:\n\u001b[0;32m    278\u001b[0m     \u001b[38;5;28;01mraise\u001b[39;00m \u001b[38;5;167;01mValueError\u001b[39;00m(\n\u001b[0;32m    279\u001b[0m         \u001b[38;5;124mf\u001b[39m\u001b[38;5;124m\"\u001b[39m\u001b[38;5;124mIPython won\u001b[39m\u001b[38;5;124m'\u001b[39m\u001b[38;5;124mt let you open fd=\u001b[39m\u001b[38;5;132;01m{\u001b[39;00mfile\u001b[38;5;132;01m}\u001b[39;00m\u001b[38;5;124m by default \u001b[39m\u001b[38;5;124m\"\u001b[39m\n\u001b[0;32m    280\u001b[0m         \u001b[38;5;124m\"\u001b[39m\u001b[38;5;124mas it is likely to crash IPython. If you know what you are doing, \u001b[39m\u001b[38;5;124m\"\u001b[39m\n\u001b[0;32m    281\u001b[0m         \u001b[38;5;124m\"\u001b[39m\u001b[38;5;124myou can use builtins\u001b[39m\u001b[38;5;124m'\u001b[39m\u001b[38;5;124m open.\u001b[39m\u001b[38;5;124m\"\u001b[39m\n\u001b[0;32m    282\u001b[0m     )\n\u001b[1;32m--> 284\u001b[0m \u001b[38;5;28;01mreturn\u001b[39;00m io_open(file, \u001b[38;5;241m*\u001b[39margs, \u001b[38;5;241m*\u001b[39m\u001b[38;5;241m*\u001b[39mkwargs)\n",
      "\u001b[1;31mFileNotFoundError\u001b[0m: [Errno 2] No such file or directory: 'non_existent_file.txt'"
     ]
    }
   ],
   "source": [
    "#9. Write a program to generate FileNotFoundException\n",
    "file_name = \"non_existent_file.txt\"\n",
    "file = open(file_name, \"r\")  \n",
    "content = file.read()\n",
    "print(content)\n",
    "file.close()"
   ]
  },
  {
   "cell_type": "code",
   "execution_count": 129,
   "id": "389c773a",
   "metadata": {},
   "outputs": [
    {
     "name": "stdout",
     "output_type": "stream",
     "text": [
      "Error: The module you are trying to import does not exist!\n",
      "Error: The class you are trying to access does not exist in the module!\n"
     ]
    }
   ],
   "source": [
    "#10. Write a program to generate ClassNotFoundException\n",
    "try:\n",
    "    import non_existent_module  \n",
    "except ModuleNotFoundError:\n",
    "    print(\"Error: The module you are trying to import does not exist!\")\n",
    "try:\n",
    "    import math\n",
    "    obj = math.NonExistentClass()\n",
    "except AttributeError:\n",
    "    print(\"Error: The class you are trying to access does not exist in the module!\")"
   ]
  },
  {
   "cell_type": "code",
   "execution_count": 131,
   "id": "04c55c81",
   "metadata": {},
   "outputs": [
    {
     "name": "stdout",
     "output_type": "stream",
     "text": [
      "Error: An I/O error occurred! Unable to write to the file.\n"
     ]
    }
   ],
   "source": [
    "#11. Write a program to generate IOException\n",
    "try:\n",
    "    file = open(\"/root/protected_file.txt\", \"w\")  \n",
    "    file.write(\"This will fail!\")  \n",
    "    file.close()\n",
    "except IOError:\n",
    "    print(\"Error: An I/O error occurred! Unable to write to the file.\")"
   ]
  },
  {
   "cell_type": "code",
   "execution_count": 132,
   "id": "77cb048b",
   "metadata": {},
   "outputs": [
    {
     "name": "stdout",
     "output_type": "stream",
     "text": [
      "Error: The field you are trying to access does not exist!\n"
     ]
    }
   ],
   "source": [
    "#12. Write a program to generate NoSuchFieldException\n",
    "class MyClass:\n",
    "    def __init__(self):\n",
    "        self.existing_field = 10\n",
    "obj = MyClass()\n",
    "try:\n",
    "    print(obj.non_existent_field)  \n",
    "except AttributeError:\n",
    "    print(\"Error: The field you are trying to access does not exist!\")"
   ]
  },
  {
   "cell_type": "markdown",
   "id": "0a2dd0a8",
   "metadata": {},
   "source": [
    "# 15.DICTIONARY"
   ]
  },
  {
   "cell_type": "code",
   "execution_count": 133,
   "id": "06711d13",
   "metadata": {},
   "outputs": [
    {
     "name": "stdout",
     "output_type": "stream",
     "text": [
      "After Adding: {101: 'Alice', 102: 'Bob', 103: 'Charlie', 104: 'David', 105: 'Emma', 106: 'Frank'}\n",
      "After Updating: {101: 'Alice', 102: 'Bob', 103: 'Carlos', 104: 'David', 105: 'Emma', 106: 'Frank'}\n",
      "Student with ID 102: Bob\n",
      "Marks of Student 103: 92\n",
      "Keys in students dictionary: dict_keys([101, 102, 103, 104, 105, 106])\n",
      "After Deleting ID 104: {101: 'Alice', 102: 'Bob', 103: 'Carlos', 105: 'Emma', 106: 'Frank'}\n"
     ]
    }
   ],
   "source": [
    "# 1. Create a Dictionary with at least 5 key-value pairs (Student ID -> Name)\n",
    "students = {\n",
    "    101: \"Alice\",\n",
    "    102: \"Bob\",\n",
    "    103: \"Charlie\",\n",
    "    104: \"David\",\n",
    "    105: \"Emma\"\n",
    "}\n",
    "\n",
    "# 1.1 Adding values in dictionary\n",
    "students[106] = \"Frank\"\n",
    "print(\"After Adding:\", students)\n",
    "\n",
    "# 1.2 Updating values in dictionary\n",
    "students[103] = \"Carlos\"\n",
    "print(\"After Updating:\", students)\n",
    "\n",
    "# 1.3 Accessing a value in dictionary\n",
    "print(\"Student with ID 102:\", students[102])\n",
    "\n",
    "# 1.4 Creating a nested dictionary (Student ID -> {Name, Marks})\n",
    "student_details = {\n",
    "    101: {\"Name\": \"Alice\", \"Marks\": 85},\n",
    "    102: {\"Name\": \"Bob\", \"Marks\": 78},\n",
    "    103: {\"Name\": \"Charlie\", \"Marks\": 92}\n",
    "}\n",
    "\n",
    "# 1.5 Accessing values from nested dictionary\n",
    "print(\"Marks of Student 103:\", student_details[103][\"Marks\"])\n",
    "\n",
    "# 1.6 Printing all keys in a dictionary\n",
    "print(\"Keys in students dictionary:\", students.keys())\n",
    "\n",
    "# 1.7 Deleting a value from dictionary\n",
    "del students[104]\n",
    "print(\"After Deleting ID 104:\", students)"
   ]
  },
  {
   "cell_type": "code",
   "execution_count": null,
   "id": "5aba1f89",
   "metadata": {},
   "outputs": [],
   "source": []
  },
  {
   "cell_type": "code",
   "execution_count": null,
   "id": "da853c91",
   "metadata": {},
   "outputs": [],
   "source": []
  },
  {
   "cell_type": "code",
   "execution_count": null,
   "id": "26796b87",
   "metadata": {},
   "outputs": [],
   "source": []
  },
  {
   "cell_type": "code",
   "execution_count": null,
   "id": "98a3e79a",
   "metadata": {},
   "outputs": [],
   "source": []
  },
  {
   "cell_type": "code",
   "execution_count": null,
   "id": "259dfce6",
   "metadata": {},
   "outputs": [],
   "source": []
  },
  {
   "cell_type": "code",
   "execution_count": null,
   "id": "6040e852",
   "metadata": {},
   "outputs": [],
   "source": []
  },
  {
   "cell_type": "code",
   "execution_count": null,
   "id": "ccc05bed",
   "metadata": {},
   "outputs": [],
   "source": []
  },
  {
   "cell_type": "code",
   "execution_count": null,
   "id": "c21f5bde",
   "metadata": {},
   "outputs": [],
   "source": []
  },
  {
   "cell_type": "code",
   "execution_count": null,
   "id": "677dfad6",
   "metadata": {},
   "outputs": [],
   "source": []
  },
  {
   "cell_type": "code",
   "execution_count": null,
   "id": "15c2e2ab",
   "metadata": {},
   "outputs": [],
   "source": []
  },
  {
   "cell_type": "code",
   "execution_count": null,
   "id": "3693f9ec",
   "metadata": {},
   "outputs": [],
   "source": []
  }
 ],
 "metadata": {
  "kernelspec": {
   "display_name": "Python 3 (ipykernel)",
   "language": "python",
   "name": "python3"
  },
  "language_info": {
   "codemirror_mode": {
    "name": "ipython",
    "version": 3
   },
   "file_extension": ".py",
   "mimetype": "text/x-python",
   "name": "python",
   "nbconvert_exporter": "python",
   "pygments_lexer": "ipython3",
   "version": "3.11.4"
  }
 },
 "nbformat": 4,
 "nbformat_minor": 5
}
